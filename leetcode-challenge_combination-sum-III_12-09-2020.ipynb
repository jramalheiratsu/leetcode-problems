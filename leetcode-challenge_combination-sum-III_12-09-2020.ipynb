{
 "cells": [
  {
   "cell_type": "markdown",
   "metadata": {},
   "source": [
    "# LeetCode Submission for 12th September, 2020"
   ]
  },
  {
   "cell_type": "code",
   "execution_count": 3,
   "metadata": {},
   "outputs": [],
   "source": [
    "# In this challenge, we were asked to write a function with input integers k and n, and output a list \n",
    "# containing all lists of k ordered distinct positive integers (from 1 to 9) whose sum is n.\n",
    "# (Attempted pretty close to their deadline, so I didn't see the \"from 1 to 9\": what I had was \n",
    "# originally a function to produce all ordered k-lists of distinct positive integers that add up to n,\n",
    "# I then had to throw in a few filters to throw out some of them.)\n",
    "\n",
    "# *Definitely* not optimised!..."
   ]
  },
  {
   "cell_type": "code",
   "execution_count": 5,
   "metadata": {},
   "outputs": [],
   "source": [
    "from typing import List"
   ]
  },
  {
   "cell_type": "code",
   "execution_count": 6,
   "metadata": {},
   "outputs": [],
   "source": [
    "def combinationSum3(k: int, n: int) -> List[List[int]]:\n",
    "        m=int(n-k*(k+1)/2)\n",
    "        if m<0:     \n",
    "            return []\n",
    "        else:               \n",
    "            def weaklyincrseqs(k,s):\n",
    "                if k==0:\n",
    "                    if s==0:\n",
    "                        return [[]]\n",
    "                    else:\n",
    "                        return []\n",
    "                else:\n",
    "                    if s==0:\n",
    "                        return [[0] * k]\n",
    "                    else:\n",
    "                        out = []\n",
    "                        for p in range(1,s+1):\n",
    "                            if (s-p>=0 and k>=1) and p<=(9-k): \n",
    "                                out = out + [lis+[p] for lis in weaklyincrseqs(k-1,s-p)]\n",
    "                        for item in out:\n",
    "                            item.sort()\n",
    "                        return out\n",
    "            sums=[[item[ind]+ind+1 for ind in range(0,k)] for item in weaklyincrseqs(k,m)]\n",
    "            res = [] \n",
    "            for x in sums:\n",
    "                check = 1\n",
    "                if x in res:\n",
    "                    check = 0\n",
    "                else:\n",
    "                    for num in x:\n",
    "                        if num>9:\n",
    "                            check =0\n",
    "                if check ==1:\n",
    "                    res.append(x)\n",
    "            return res"
   ]
  },
  {
   "cell_type": "code",
   "execution_count": 7,
   "metadata": {},
   "outputs": [],
   "source": [
    "# Some tests"
   ]
  },
  {
   "cell_type": "code",
   "execution_count": 10,
   "metadata": {},
   "outputs": [
    {
     "data": {
      "text/plain": [
       "[[2, 8], [3, 7], [4, 6], [1, 9]]"
      ]
     },
     "execution_count": 10,
     "metadata": {},
     "output_type": "execute_result"
    }
   ],
   "source": [
    "combinationSum3(2,10)"
   ]
  },
  {
   "cell_type": "code",
   "execution_count": 11,
   "metadata": {},
   "outputs": [
    {
     "data": {
      "text/plain": [
       "[]"
      ]
     },
     "execution_count": 11,
     "metadata": {},
     "output_type": "execute_result"
    }
   ],
   "source": [
    "combinationSum3(3,3)"
   ]
  },
  {
   "cell_type": "code",
   "execution_count": 14,
   "metadata": {},
   "outputs": [
    {
     "data": {
      "text/plain": [
       "[[1, 2, 3]]"
      ]
     },
     "execution_count": 14,
     "metadata": {},
     "output_type": "execute_result"
    }
   ],
   "source": [
    "combinationSum3(3,6)"
   ]
  },
  {
   "cell_type": "code",
   "execution_count": 16,
   "metadata": {},
   "outputs": [
    {
     "data": {
      "text/plain": [
       "[[1, 3, 4], [1, 2, 5]]"
      ]
     },
     "execution_count": 16,
     "metadata": {},
     "output_type": "execute_result"
    }
   ],
   "source": [
    "combinationSum3(3,8)"
   ]
  },
  {
   "cell_type": "code",
   "execution_count": null,
   "metadata": {},
   "outputs": [],
   "source": []
  }
 ],
 "metadata": {
  "kernelspec": {
   "display_name": "Python 3",
   "language": "python",
   "name": "python3"
  },
  "language_info": {
   "codemirror_mode": {
    "name": "ipython",
    "version": 3
   },
   "file_extension": ".py",
   "mimetype": "text/x-python",
   "name": "python",
   "nbconvert_exporter": "python",
   "pygments_lexer": "ipython3",
   "version": "3.8.3"
  }
 },
 "nbformat": 4,
 "nbformat_minor": 4
}
