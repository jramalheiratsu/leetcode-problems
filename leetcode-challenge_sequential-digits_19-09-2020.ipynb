{
 "cells": [
  {
   "cell_type": "markdown",
   "metadata": {},
   "source": [
    "# LeetCode Submission for 19th September, 2020"
   ]
  },
  {
   "cell_type": "code",
   "execution_count": 1,
   "metadata": {},
   "outputs": [],
   "source": [
    "# An integer has sequential digits if and only if each digit in the number is one more than the previous digit.\n",
    "\n",
    "# Return a sorted list of all the integers in the range [low, high] inclusive that have sequential digits."
   ]
  },
  {
   "cell_type": "code",
   "execution_count": 2,
   "metadata": {},
   "outputs": [],
   "source": [
    "#Example 1:\n",
    "#\n",
    "#Input: low = 100, high = 300\n",
    "#Output: [123,234]"
   ]
  },
  {
   "cell_type": "code",
   "execution_count": 3,
   "metadata": {},
   "outputs": [],
   "source": [
    "#Input: low = 1000, high = 13000\n",
    "#Output: [1234,2345,3456,4567,5678,6789,12345]"
   ]
  },
  {
   "cell_type": "code",
   "execution_count": 4,
   "metadata": {},
   "outputs": [],
   "source": [
    "from typing import List"
   ]
  },
  {
   "cell_type": "code",
   "execution_count": 5,
   "metadata": {},
   "outputs": [],
   "source": [
    "def sequentialDigits(low: int, high: int) -> List[int]:      \n",
    "    out = []\n",
    "    check = 1\n",
    "    first = int(str(low)[0])\n",
    "    length = len(str(low))\n",
    "    while check == 1:\n",
    "        currSeqNo = int(''.join([str(first+num) for num in range(length)])) if first+length-1 <= 9 else -1\n",
    "        if currSeqNo > high or length > len(str(high)):\n",
    "            check = 0\n",
    "        else:\n",
    "            if currSeqNo != -1 and currSeqNo>= low:\n",
    "                out.append(currSeqNo) \n",
    "            if first != 9:\n",
    "                first += 1\n",
    "            else:\n",
    "                first = 1\n",
    "                length += 1\n",
    "    return out"
   ]
  },
  {
   "cell_type": "code",
   "execution_count": 6,
   "metadata": {},
   "outputs": [
    {
     "data": {
      "text/plain": [
       "[123, 234]"
      ]
     },
     "execution_count": 6,
     "metadata": {},
     "output_type": "execute_result"
    }
   ],
   "source": [
    "# Example 1:\n",
    "low = 100\n",
    "high = 300\n",
    "# Expected Output: [123,234]\n",
    "sequentialDigits(low,high)"
   ]
  },
  {
   "cell_type": "code",
   "execution_count": 7,
   "metadata": {},
   "outputs": [
    {
     "data": {
      "text/plain": [
       "[1234, 2345, 3456, 4567, 5678, 6789, 12345]"
      ]
     },
     "execution_count": 7,
     "metadata": {},
     "output_type": "execute_result"
    }
   ],
   "source": [
    "# Example 2:\n",
    "low = 1000\n",
    "high = 13000\n",
    "# Expected Output: [1234,2345,3456,4567,5678,6789,12345]\n",
    "sequentialDigits(low,high)"
   ]
  },
  {
   "cell_type": "code",
   "execution_count": 8,
   "metadata": {},
   "outputs": [],
   "source": [
    "# Another:"
   ]
  },
  {
   "cell_type": "code",
   "execution_count": 9,
   "metadata": {},
   "outputs": [
    {
     "data": {
      "text/plain": [
       "[12,\n",
       " 23,\n",
       " 34,\n",
       " 45,\n",
       " 56,\n",
       " 67,\n",
       " 78,\n",
       " 89,\n",
       " 123,\n",
       " 234,\n",
       " 345,\n",
       " 456,\n",
       " 567,\n",
       " 678,\n",
       " 789,\n",
       " 1234,\n",
       " 2345,\n",
       " 3456,\n",
       " 4567,\n",
       " 5678,\n",
       " 6789,\n",
       " 12345,\n",
       " 23456,\n",
       " 34567,\n",
       " 45678,\n",
       " 56789,\n",
       " 123456,\n",
       " 234567,\n",
       " 345678,\n",
       " 456789,\n",
       " 1234567,\n",
       " 2345678,\n",
       " 3456789,\n",
       " 12345678,\n",
       " 23456789,\n",
       " 123456789]"
      ]
     },
     "execution_count": 9,
     "metadata": {},
     "output_type": "execute_result"
    }
   ],
   "source": [
    "low = 10\n",
    "high = 1000000000\n",
    "sequentialDigits(low,high)"
   ]
  },
  {
   "cell_type": "code",
   "execution_count": null,
   "metadata": {},
   "outputs": [],
   "source": []
  },
  {
   "cell_type": "code",
   "execution_count": null,
   "metadata": {},
   "outputs": [],
   "source": []
  },
  {
   "cell_type": "code",
   "execution_count": null,
   "metadata": {},
   "outputs": [],
   "source": []
  },
  {
   "cell_type": "code",
   "execution_count": null,
   "metadata": {},
   "outputs": [],
   "source": []
  },
  {
   "cell_type": "code",
   "execution_count": null,
   "metadata": {},
   "outputs": [],
   "source": []
  },
  {
   "cell_type": "code",
   "execution_count": null,
   "metadata": {},
   "outputs": [],
   "source": []
  },
  {
   "cell_type": "code",
   "execution_count": null,
   "metadata": {},
   "outputs": [],
   "source": []
  },
  {
   "cell_type": "code",
   "execution_count": null,
   "metadata": {},
   "outputs": [],
   "source": []
  },
  {
   "cell_type": "code",
   "execution_count": null,
   "metadata": {},
   "outputs": [],
   "source": []
  },
  {
   "cell_type": "code",
   "execution_count": null,
   "metadata": {},
   "outputs": [],
   "source": []
  },
  {
   "cell_type": "code",
   "execution_count": null,
   "metadata": {},
   "outputs": [],
   "source": []
  },
  {
   "cell_type": "code",
   "execution_count": null,
   "metadata": {},
   "outputs": [],
   "source": []
  },
  {
   "cell_type": "code",
   "execution_count": null,
   "metadata": {},
   "outputs": [],
   "source": []
  },
  {
   "cell_type": "code",
   "execution_count": null,
   "metadata": {},
   "outputs": [],
   "source": []
  },
  {
   "cell_type": "code",
   "execution_count": null,
   "metadata": {},
   "outputs": [],
   "source": []
  },
  {
   "cell_type": "code",
   "execution_count": null,
   "metadata": {},
   "outputs": [],
   "source": []
  }
 ],
 "metadata": {
  "kernelspec": {
   "display_name": "Python 3",
   "language": "python",
   "name": "python3"
  },
  "language_info": {
   "codemirror_mode": {
    "name": "ipython",
    "version": 3
   },
   "file_extension": ".py",
   "mimetype": "text/x-python",
   "name": "python",
   "nbconvert_exporter": "python",
   "pygments_lexer": "ipython3",
   "version": "3.8.3"
  }
 },
 "nbformat": 4,
 "nbformat_minor": 4
}
