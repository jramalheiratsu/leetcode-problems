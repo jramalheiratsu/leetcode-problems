{
 "cells": [
  {
   "cell_type": "markdown",
   "metadata": {},
   "source": [
    "# LeetCode Submission for 14th September, 2020"
   ]
  },
  {
   "cell_type": "code",
   "execution_count": 1,
   "metadata": {},
   "outputs": [],
   "source": [
    "# You are a professional robber planning to rob houses along a street. Each house has a certain amount of money stashed, \n",
    "# the only constraint stopping you from robbing each of them is that adjacent houses have security system connected and \n",
    "# it will automatically contact the police if two adjacent houses were broken into on the same night.\n",
    "\n",
    "# Given a list of non-negative integers representing the amount of money of each house, determine the maximum amount of \n",
    "# money you can rob tonight without alerting the police."
   ]
  },
  {
   "cell_type": "code",
   "execution_count": 2,
   "metadata": {},
   "outputs": [],
   "source": [
    "# Initial thought: dynamic programming problem. We are interested in the subsequence of a finite sequence in which no\n",
    "# two adjacent entries are included, maximising the sum over this subsequence. We partition the set of constrained\n",
    "# subsequences into two disjoint sets: the subsequences including the last entry and the subsequences not including the\n",
    "# last. This is the basis for my solution."
   ]
  },
  {
   "cell_type": "code",
   "execution_count": 3,
   "metadata": {},
   "outputs": [],
   "source": [
    "from typing import List"
   ]
  },
  {
   "cell_type": "code",
   "execution_count": 4,
   "metadata": {},
   "outputs": [],
   "source": [
    "def rob(nums: List[int]) -> int:\n",
    "    if nums == []:\n",
    "        return 0\n",
    "    else:\n",
    "        return max(rob(nums[0:-1]),nums[-1]+rob(nums[0:-2]))"
   ]
  },
  {
   "cell_type": "code",
   "execution_count": 5,
   "metadata": {},
   "outputs": [
    {
     "data": {
      "text/plain": [
       "4"
      ]
     },
     "execution_count": 5,
     "metadata": {},
     "output_type": "execute_result"
    }
   ],
   "source": [
    "nums = [1,2,3,1]\n",
    "rob(nums)"
   ]
  },
  {
   "cell_type": "code",
   "execution_count": 6,
   "metadata": {},
   "outputs": [
    {
     "data": {
      "text/plain": [
       "21"
      ]
     },
     "execution_count": 6,
     "metadata": {},
     "output_type": "execute_result"
    }
   ],
   "source": [
    "nums = [2,7,9,3,1,1,4,2,5]\n",
    "rob(nums)"
   ]
  },
  {
   "cell_type": "code",
   "execution_count": 7,
   "metadata": {},
   "outputs": [],
   "source": [
    "nums = [183,219,57,193,94,233,202,154,65,240,97,234,100,249,186,66,90,238,168,128,177,235,50,81,185,165,217,207,88,80,112,78,135,62,228,247,211]"
   ]
  },
  {
   "cell_type": "code",
   "execution_count": 8,
   "metadata": {},
   "outputs": [
    {
     "data": {
      "text/plain": [
       "3365"
      ]
     },
     "execution_count": 8,
     "metadata": {},
     "output_type": "execute_result"
    }
   ],
   "source": [
    "rob(nums)"
   ]
  },
  {
   "cell_type": "code",
   "execution_count": 9,
   "metadata": {},
   "outputs": [],
   "source": [
    "# It worked, but was too slow. LeetCode wouldn't accept it becaust it exceeded the time limit. We can improve this by reducing\n",
    "# the length of the list by a greater degree at each reduction. I take the midpoint and partition based on whether or not the \n",
    "# mid-point is included in the subsequence."
   ]
  },
  {
   "cell_type": "code",
   "execution_count": 10,
   "metadata": {},
   "outputs": [],
   "source": [
    "def rob2(nums: List[int]) -> int:\n",
    "    if len(nums) == 0:\n",
    "        return 0\n",
    "    #elif len(nums) <= 2:\n",
    "    #    return max(nums)\n",
    "    #elif len(nums) == 3:\n",
    "    #    return max(nums[1], nums[0]+nums[2])\n",
    "    #elif len(nums) == 4:\n",
    "    #    return max(nums[1]+nums[3], nums[0]+nums[2])\n",
    "    #elif len(nums) == 5:\n",
    "    #    return max(nums[1]+nums[3], nums[0]+nums[2] + nums[4])\n",
    "    else:\n",
    "        return max(rob2(nums[0:round(len(nums)/2)])+rob2(nums[round(len(nums)/2)+1:len(nums)]),rob2(nums[0:round(len(nums)/2)-1])+nums[round(len(nums)/2)]+rob2(nums[round(len(nums)/2)+2:len(nums)]))"
   ]
  },
  {
   "cell_type": "code",
   "execution_count": 11,
   "metadata": {},
   "outputs": [
    {
     "data": {
      "text/plain": [
       "4"
      ]
     },
     "execution_count": 11,
     "metadata": {},
     "output_type": "execute_result"
    }
   ],
   "source": [
    "nums = [1,2,3,1]\n",
    "rob2(nums)"
   ]
  },
  {
   "cell_type": "code",
   "execution_count": 12,
   "metadata": {},
   "outputs": [
    {
     "data": {
      "text/plain": [
       "21"
      ]
     },
     "execution_count": 12,
     "metadata": {},
     "output_type": "execute_result"
    }
   ],
   "source": [
    "nums = [2,7,9,3,1,1,4,2,5]\n",
    "rob2(nums)"
   ]
  },
  {
   "cell_type": "code",
   "execution_count": 13,
   "metadata": {},
   "outputs": [
    {
     "data": {
      "text/plain": [
       "3365"
      ]
     },
     "execution_count": 13,
     "metadata": {},
     "output_type": "execute_result"
    }
   ],
   "source": [
    "nums = [183,219,57,193,94,233,202,154,65,240,97,234,100,249,186,66,90,238,168,128,177,235,50,81,185,165,217,207,88,80,112,78,135,62,228,247,211]\n",
    "rob2(nums)"
   ]
  },
  {
   "cell_type": "code",
   "execution_count": 14,
   "metadata": {},
   "outputs": [],
   "source": [
    "# So much faster! :D"
   ]
  },
  {
   "cell_type": "code",
   "execution_count": null,
   "metadata": {},
   "outputs": [],
   "source": []
  }
 ],
 "metadata": {
  "kernelspec": {
   "display_name": "Python 3",
   "language": "python",
   "name": "python3"
  },
  "language_info": {
   "codemirror_mode": {
    "name": "ipython",
    "version": 3
   },
   "file_extension": ".py",
   "mimetype": "text/x-python",
   "name": "python",
   "nbconvert_exporter": "python",
   "pygments_lexer": "ipython3",
   "version": "3.8.3"
  }
 },
 "nbformat": 4,
 "nbformat_minor": 4
}
