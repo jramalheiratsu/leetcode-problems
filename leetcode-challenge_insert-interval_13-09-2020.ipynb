{
 "cells": [
  {
   "cell_type": "markdown",
   "metadata": {},
   "source": [
    "# LeetCode Submission for 13th September, 2020"
   ]
  },
  {
   "cell_type": "code",
   "execution_count": 364,
   "metadata": {},
   "outputs": [],
   "source": [
    "# In this challenge, we were asked to write a function taking in a list of disjoint closed intervals and a new interval\n",
    "# to be added into the list so that the resulting list of intervals are still disjoint, but whose union is now the union\n",
    "# of the union of the intervals and the new interval.\n",
    "\n",
    "# Again, not super optimal, but I wanted to do this very set-theoretically."
   ]
  },
  {
   "cell_type": "code",
   "execution_count": 2,
   "metadata": {},
   "outputs": [],
   "source": [
    "from typing import List"
   ]
  },
  {
   "cell_type": "code",
   "execution_count": 359,
   "metadata": {},
   "outputs": [],
   "source": [
    "def insert(intervals: List[List[int]], newInterval: List[int]) -> List[List[int]]:\n",
    "        intervals = list(filter(lambda ints: ints!=[], intervals))\n",
    "        if newInterval == []:\n",
    "            out = intervals\n",
    "        else:\n",
    "            l=len(intervals)\n",
    "            listax = [i for i in range(len(intervals)) if intervals[i][0] <= newInterval[0]]\n",
    "            listbx = [i for i in range(len(intervals)) if intervals[i][1] >= newInterval[0]]\n",
    "            listay = [i for i in range(len(intervals)) if intervals[i][0] <= newInterval[1]]\n",
    "            listby = [i for i in range(len(intervals)) if intervals[i][1] >= newInterval[1]]\n",
    "            if listax == []:\n",
    "                out = []\n",
    "                if listay == []:\n",
    "                    out = intervals + [newInterval]\n",
    "                elif listby == []:\n",
    "                    out = out + [newInterval]\n",
    "                else:\n",
    "                    inty = [ind for ind in listay if ind in listby]\n",
    "                    if inty == []:\n",
    "                        out = out + [intervals[ind] for ind in range(l) if ind>max(listay)]\n",
    "                        out = out + [newInterval]\n",
    "                    else:\n",
    "                        out = out + [intervals[ind] for ind in range(l) if ind>inty[0]]\n",
    "                        out = out + [[newInterval[0],intervals[inty[0]][1]]]\n",
    "            elif listbx == []:\n",
    "                    out = intervals\n",
    "                    out = out + [newInterval]\n",
    "            else:\n",
    "                intx = [ind for ind in listax if ind in listbx]\n",
    "                if intx == []:\n",
    "                    out = [intervals[ind] for ind in range(l) if ind<=max(listax)]\n",
    "                    if listby == []:\n",
    "                        out = out + [newInterval]\n",
    "                    else:\n",
    "                        inty = [ind for ind in listay if ind in listby]\n",
    "                        if inty == []:\n",
    "                            out = out + [intervals[ind] for ind in range(l) if ind>max(listay)]\n",
    "                            out = out + [newInterval]\n",
    "                        else:\n",
    "                            out = out + [intervals[ind] for ind in range(l) if ind>inty[0]]\n",
    "                            out = out + [[newInterval[0],intervals[inty[0]][1]]]\n",
    "                else:\n",
    "                    out = [intervals[ind] for ind in range(l) if ind<intx[0]]\n",
    "                    if listby == []:\n",
    "                        out = out + [[intervals[intx[0]][0],newInterval[1]]]\n",
    "                    else:\n",
    "                        inty = [ind for ind in listay if ind in listby]\n",
    "                        if inty == []:\n",
    "                            out = out + [intervals[ind] for ind in range(l) if ind>max(listay)]\n",
    "                            out = out + [[intervals[intx[0]][0],newInterval[1]]]\n",
    "                        else:\n",
    "                            out = out + [intervals[ind] for ind in range(l) if ind>inty[0]]\n",
    "                            out = out + [[intervals[intx[0]][0],intervals[inty[0]][1]]]\n",
    "        out.sort()\n",
    "        return out     "
   ]
  },
  {
   "cell_type": "code",
   "execution_count": 360,
   "metadata": {},
   "outputs": [
    {
     "data": {
      "text/plain": [
       "[[0, 6], [7, 9]]"
      ]
     },
     "execution_count": 360,
     "metadata": {},
     "output_type": "execute_result"
    }
   ],
   "source": [
    "intervals=[[0,1],[3,6],[7,9]]\n",
    "newInterval=[0,3]\n",
    "insert(intervals, newInterval)"
   ]
  },
  {
   "cell_type": "code",
   "execution_count": 361,
   "metadata": {},
   "outputs": [
    {
     "data": {
      "text/plain": [
       "[[0, 1], [3, 6], [5, 5], [7, 9]]"
      ]
     },
     "execution_count": 361,
     "metadata": {},
     "output_type": "execute_result"
    }
   ],
   "source": [
    "intervals=[[],[3,6],[5,5],[7,9]]\n",
    "newInterval=[0,1]\n",
    "insert(intervals, newInterval)"
   ]
  },
  {
   "cell_type": "code",
   "execution_count": 362,
   "metadata": {},
   "outputs": [
    {
     "data": {
      "text/plain": [
       "[[1, 1], [3, 6], [5, 5], [7, 9]]"
      ]
     },
     "execution_count": 362,
     "metadata": {},
     "output_type": "execute_result"
    }
   ],
   "source": [
    "intervals=[[],[3,6],[5,5],[7,9]]\n",
    "newInterval=[1,1]\n",
    "insert(intervals, newInterval)"
   ]
  },
  {
   "cell_type": "code",
   "execution_count": 363,
   "metadata": {},
   "outputs": [
    {
     "data": {
      "text/plain": [
       "[[3, 6], [5, 5], [7, 9]]"
      ]
     },
     "execution_count": 363,
     "metadata": {},
     "output_type": "execute_result"
    }
   ],
   "source": [
    "intervals=[[],[3,6],[5,5],[7,9]]\n",
    "newInterval=[]\n",
    "insert(intervals, newInterval)"
   ]
  },
  {
   "cell_type": "code",
   "execution_count": null,
   "metadata": {},
   "outputs": [],
   "source": []
  },
  {
   "cell_type": "code",
   "execution_count": null,
   "metadata": {},
   "outputs": [],
   "source": []
  },
  {
   "cell_type": "code",
   "execution_count": null,
   "metadata": {},
   "outputs": [],
   "source": []
  },
  {
   "cell_type": "code",
   "execution_count": null,
   "metadata": {},
   "outputs": [],
   "source": []
  },
  {
   "cell_type": "code",
   "execution_count": null,
   "metadata": {},
   "outputs": [],
   "source": []
  }
 ],
 "metadata": {
  "kernelspec": {
   "display_name": "Python 3",
   "language": "python",
   "name": "python3"
  },
  "language_info": {
   "codemirror_mode": {
    "name": "ipython",
    "version": 3
   },
   "file_extension": ".py",
   "mimetype": "text/x-python",
   "name": "python",
   "nbconvert_exporter": "python",
   "pygments_lexer": "ipython3",
   "version": "3.8.3"
  }
 },
 "nbformat": 4,
 "nbformat_minor": 4
}
