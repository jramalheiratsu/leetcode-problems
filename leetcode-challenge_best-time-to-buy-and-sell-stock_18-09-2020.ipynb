{
 "cells": [
  {
   "cell_type": "markdown",
   "metadata": {},
   "source": [
    "# LeetCode Submission for 18th September, 2020"
   ]
  },
  {
   "cell_type": "code",
   "execution_count": null,
   "metadata": {},
   "outputs": [],
   "source": [
    "#Say you have an array for which the ith element is the price of a given stock on day i.\n",
    "\n",
    "#If you were only permitted to complete at most one transaction (i.e., buy one and sell one share of the stock), \n",
    "# design an algorithm to find the maximum profit.\n",
    "\n",
    "#Note that you cannot sell a stock before you buy one."
   ]
  },
  {
   "cell_type": "code",
   "execution_count": null,
   "metadata": {},
   "outputs": [],
   "source": [
    "#Example 1:\n",
    "\n",
    "#Input: [7,1,5,3,6,4]\n",
    "#Output: 5\n",
    "#Explanation: Buy on day 2 (price = 1) and sell on day 5 (price = 6), profit = 6-1 = 5.\n",
    "#             Not 7-1 = 6, as selling price needs to be larger than buying price."
   ]
  },
  {
   "cell_type": "code",
   "execution_count": null,
   "metadata": {},
   "outputs": [],
   "source": [
    "#Input: [7,6,4,3,1]\n",
    "#Output: 0\n",
    "#Explanation: In this case, no transaction is done, i.e. max profit = 0."
   ]
  },
  {
   "cell_type": "code",
   "execution_count": null,
   "metadata": {},
   "outputs": [],
   "source": [
    "# This is a pretty standard coding question, so I've seen it before. Still, it's an interesting one that\n",
    "# allows some ideas about the optimisation of solutions to be explored."
   ]
  },
  {
   "cell_type": "code",
   "execution_count": null,
   "metadata": {},
   "outputs": [],
   "source": [
    "from typing import List"
   ]
  },
  {
   "cell_type": "code",
   "execution_count": null,
   "metadata": {},
   "outputs": [],
   "source": [
    "import time"
   ]
  },
  {
   "cell_type": "code",
   "execution_count": null,
   "metadata": {},
   "outputs": [],
   "source": [
    "# For fun, here is a very inefficient (time-wise) 1-line solution"
   ]
  },
  {
   "cell_type": "code",
   "execution_count": null,
   "metadata": {},
   "outputs": [],
   "source": [
    "def maxProfit(prices: List[int]) -> int: return 0 if not len(prices) else max([max([prices[ind2]-prices[ind1] for ind2 in range(ind1,len(prices))]) for ind1 in range(len(prices))])"
   ]
  },
  {
   "cell_type": "code",
   "execution_count": null,
   "metadata": {},
   "outputs": [],
   "source": [
    "# Test 1\n",
    "prices = [7,1,5,3,6,4]\n",
    "maxProfit(prices)"
   ]
  },
  {
   "cell_type": "code",
   "execution_count": null,
   "metadata": {},
   "outputs": [],
   "source": [
    "# Test 2\n",
    "prices = [7,6,4,3,1]\n",
    "maxProfit(prices)"
   ]
  },
  {
   "cell_type": "code",
   "execution_count": null,
   "metadata": {},
   "outputs": [],
   "source": [
    "# Test 3\n",
    "prices = [1000-i for i in range(1000)]\n",
    "t0 = time.process_time()\n",
    "maxProfit(prices)\n",
    "t1 = time.process_time() - t0\n",
    "print(t1)"
   ]
  },
  {
   "cell_type": "code",
   "execution_count": null,
   "metadata": {},
   "outputs": [],
   "source": [
    "# This isn't very efficient: at each index, it computes all differences between the price at that index and all subsequent \n",
    "# prices. This is a total of (n(n+1))/2. So this is order n^2."
   ]
  },
  {
   "cell_type": "code",
   "execution_count": null,
   "metadata": {},
   "outputs": [],
   "source": [
    "# Here is a more efficient solution:"
   ]
  },
  {
   "cell_type": "code",
   "execution_count": null,
   "metadata": {},
   "outputs": [],
   "source": [
    "def maxProfit2(prices: List[int]) -> int:\n",
    "    min_seen = prices[0] if prices != [] else 0\n",
    "    max_diff = 0\n",
    "    for item in prices:\n",
    "        if item-min_seen>max_diff:\n",
    "            max_diff = item-min_seen\n",
    "        elif item<min_seen:\n",
    "            min_seen = item\n",
    "    return max_diff"
   ]
  },
  {
   "cell_type": "code",
   "execution_count": null,
   "metadata": {},
   "outputs": [],
   "source": [
    "# Test 1\n",
    "prices = [7,1,5,3,6,4]\n",
    "maxProfit2(prices)"
   ]
  },
  {
   "cell_type": "code",
   "execution_count": null,
   "metadata": {},
   "outputs": [],
   "source": [
    "# Test 2\n",
    "prices = [7,6,4,3,1]\n",
    "maxProfit2(prices)"
   ]
  },
  {
   "cell_type": "code",
   "execution_count": null,
   "metadata": {},
   "outputs": [],
   "source": [
    "# Test 3\n",
    "prices = [1000-i for i in range(1000)]\n",
    "t0 = time.process_time()\n",
    "print(maxProfit2(prices))\n",
    "t1 = time.process_time() - t0\n",
    "print(\"Time elapsed: \", t1)"
   ]
  },
  {
   "cell_type": "code",
   "execution_count": null,
   "metadata": {},
   "outputs": [],
   "source": [
    "# This has a nice generalisation: What if we are permitted to buy stocks on k days (and sell on k days)? The standard constraint\n",
    "# for this generalised problem is that we cannot buy new stock if we already have stock, and only one stock can be bought in\n",
    "# a day."
   ]
  },
  {
   "cell_type": "code",
   "execution_count": null,
   "metadata": {},
   "outputs": [],
   "source": [
    "# This has a cool solution using dynamical programming. The following are from https://www.youtube.com/watch?v=Pw6lrYANjz4"
   ]
  },
  {
   "cell_type": "code",
   "execution_count": null,
   "metadata": {},
   "outputs": [],
   "source": [
    "# The following has time and space complexity O(nk) [n = len(prices)]"
   ]
  },
  {
   "cell_type": "code",
   "execution_count": null,
   "metadata": {},
   "outputs": [],
   "source": [
    "def maxProfitWithKTransactionsSlower(prices,k):\n",
    "    if not len(prices):\n",
    "        return 0\n",
    "    profits = [[0 for d in prices] for t in range(k+1)]\n",
    "    for t in range(1,k+1):\n",
    "        maxThusFar = float(\"-inf\")\n",
    "        for d in range(1,len(prices)):\n",
    "            maxThusFar = max(maxThusFar, profits[t-1][d-1] - prices[d-1])\n",
    "            profits[t][d] = max(profits[t][d-1],maxThusFar + prices[d])\n",
    "    print(profits)\n",
    "    return profits[-1][-1]"
   ]
  },
  {
   "cell_type": "code",
   "execution_count": null,
   "metadata": {},
   "outputs": [],
   "source": [
    "# The following is even better (since we never call on t-2 at each stage, one can work with two lists, instead of k+1 lists)"
   ]
  },
  {
   "cell_type": "code",
   "execution_count": null,
   "metadata": {},
   "outputs": [],
   "source": [
    "def maxProfitWithKTransactions(prices,k):\n",
    "    if not len(prices):\n",
    "        return 0\n",
    "    evenProfits = [0 for d in prices]\n",
    "    oddProfits = [0 for d in prices]\n",
    "    for t in range(1,k+1):\n",
    "        maxThusFar = float(\"-inf\")\n",
    "        if t%2 == 1:\n",
    "            currentProfits = oddProfits\n",
    "            previousProfits = evenProfits\n",
    "        else:\n",
    "            currentProfits = evenProfits\n",
    "            previousProfits = oddProfits\n",
    "        for d in range(1,len(prices)):\n",
    "            maxThusFar = max(maxThusFar, previousProfits[d-1] - prices[d-1])\n",
    "            currentProfits[d] = max(currentProfits[d-1],maxThusFar + prices[d])\n",
    "    return evenProfits[-1] if k%2==0 else oddProfits[-1]"
   ]
  },
  {
   "cell_type": "code",
   "execution_count": null,
   "metadata": {},
   "outputs": [],
   "source": []
  },
  {
   "cell_type": "code",
   "execution_count": null,
   "metadata": {},
   "outputs": [],
   "source": []
  },
  {
   "cell_type": "code",
   "execution_count": null,
   "metadata": {},
   "outputs": [],
   "source": []
  }
 ],
 "metadata": {
  "kernelspec": {
   "display_name": "Python 3",
   "language": "python",
   "name": "python3"
  },
  "language_info": {
   "codemirror_mode": {
    "name": "ipython",
    "version": 3
   },
   "file_extension": ".py",
   "mimetype": "text/x-python",
   "name": "python",
   "nbconvert_exporter": "python",
   "pygments_lexer": "ipython3",
   "version": "3.8.3"
  }
 },
 "nbformat": 4,
 "nbformat_minor": 4
}
